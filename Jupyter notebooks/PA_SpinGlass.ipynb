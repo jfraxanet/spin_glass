{
 "cells": [
  {
   "cell_type": "markdown",
   "metadata": {},
   "source": [
    "# Population annealing on spin glass problem\n",
    "\n",
    "In this jupyter notebook you can fins the implementation of the algorithm population annealing to find the ground state of an 2D Edwards-Anderson spin glass model, which has the following Hamiltonian:\n",
    "\n",
    "$$H = -\\sum_{<ij>}J_{ij}s_is_j,$$\n",
    "\n",
    "where the couplings $J_{ij}$ are random variables drawn from a Gaussian distribution and we consider only nearest neighbour interactions.\n",
    "The algorithm can also be implemented for other spin glass problems with different connectivity and dimensionality.\n",
    "\n",
    "Population annealing is inspired in the simulated annealing algorithm but it has some added features."
   ]
  },
  {
   "cell_type": "code",
   "execution_count": 1,
   "metadata": {},
   "outputs": [],
   "source": [
    "import numpy as np\n",
    "import random\n",
    "import matplotlib.pyplot as plt\n",
    "import copy\n",
    "import timeit\n",
    "import math"
   ]
  },
  {
   "cell_type": "markdown",
   "metadata": {},
   "source": [
    "After importing the necessary packages we need to define the configuration of the problem. Let's start by defining the lattice. This will be useful to plot the spins."
   ]
  },
  {
   "cell_type": "code",
   "execution_count": 2,
   "metadata": {},
   "outputs": [],
   "source": [
    "def Lattice(N):\n",
    "    '''Square 2D lattice within sqrtN'''\n",
    "    Position = np.zeros((N,2))\n",
    "    SqrtN = np.ceil(np.sqrt(N)) \n",
    "    for i in range(N):\n",
    "        Position[i][0] = (i%SqrtN)\n",
    "        Position[i][1] = (i//SqrtN)  \n",
    "    SpinX = Position[:,0]\n",
    "    SpinY = Position[:,1]\n",
    "    return SpinX, SpinY\n",
    "\n",
    "side = 10\n",
    "N = side*side #TOTAL NUMBER OF SPINS\n",
    "SpinX,SpinY = Lattice(N)"
   ]
  },
  {
   "cell_type": "markdown",
   "metadata": {},
   "source": [
    "Now, let us define the random couplings between nearest neighbours. In this case, we will set them in a NxN matrix, but there are more efficient ways to do it. For example, we could save two couplings for each spin, the one to the left and the one with the spin down from it. Here instead we have a symmetric matrix with a lot of entries being zero, but it helps making the program more intuitive."
   ]
  },
  {
   "cell_type": "code",
   "execution_count": 3,
   "metadata": {},
   "outputs": [
    {
     "name": "stdout",
     "output_type": "stream",
     "text": [
      "[[ 0.          0.48407959  0.         ...  0.          0.\n",
      "   0.        ]\n",
      " [ 0.48407959  0.         -0.03438626 ...  0.          0.\n",
      "   0.        ]\n",
      " [ 0.         -0.03438626  0.         ...  0.          0.\n",
      "   0.        ]\n",
      " ...\n",
      " [ 0.          0.          0.         ...  0.         -0.0190945\n",
      "   0.        ]\n",
      " [ 0.          0.          0.         ... -0.0190945   0.\n",
      "   1.40401379]\n",
      " [ 0.          0.          0.         ...  0.          1.40401379\n",
      "   0.        ]]\n"
     ]
    }
   ],
   "source": [
    "def NN_Random_couplings(N, side, SpinX, SpinY):\n",
    "    '''Computes the symmetric matrix with all random couplings for nearest neighbours PERIODIC BOUNDARY CONDITIONS'''\n",
    "    Matrix = np.zeros((N,N))\n",
    "    for i in range(N):\n",
    "        for j in range(i+1,N):\n",
    "            dist_vector = np.array([SpinX[i]-SpinX[j],SpinY[i]-SpinY[j]])\n",
    "            dist_vector_PBC = (dist_vector + side/2)%side-side/2\n",
    "            if np.linalg.norm(dist_vector_PBC) == 1:\n",
    "                Matrix[i][j] = np.random.normal(0,1) #from N(0,1)\n",
    "                Matrix[j][i] = Matrix[i][j]\n",
    "    return Matrix  \n",
    "\n",
    "Matrix = NN_Random_couplings(N,side,SpinX,SpinY)\n",
    "print(Matrix)\n",
    "#np.save('Matrix.npy', Matrix)"
   ]
  },
  {
   "cell_type": "markdown",
   "metadata": {},
   "source": [
    "We could also import the couplings from a file to be sure we are working on the same problem all the time:"
   ]
  },
  {
   "cell_type": "code",
   "execution_count": 5,
   "metadata": {},
   "outputs": [
    {
     "name": "stdout",
     "output_type": "stream",
     "text": [
      "[[ 0.          0.3764402   0.         ...  0.          0.\n",
      "   0.        ]\n",
      " [ 0.3764402   0.         -1.89813204 ...  0.          0.\n",
      "   0.        ]\n",
      " [ 0.         -1.89813204  0.         ...  0.          0.\n",
      "   0.        ]\n",
      " ...\n",
      " [ 0.          0.          0.         ...  0.         -1.79272444\n",
      "   0.        ]\n",
      " [ 0.          0.          0.         ... -1.79272444  0.\n",
      "  -0.70226097]\n",
      " [ 0.          0.          0.         ...  0.         -0.70226097\n",
      "   0.        ]]\n"
     ]
    }
   ],
   "source": [
    "Matrix = np.load('Matrix10.npy')\n",
    "print(Matrix)"
   ]
  },
  {
   "cell_type": "markdown",
   "metadata": {},
   "source": [
    "Now let us define the parameters that we are going to need for the population annealing process. The idea behind this algorithm is to consider more than one copy of the system and perform simulated annealing to all of them. At each temperature step, we will resample the copies so that they follow the Gibbs distribution, therefore getting rid of some of the high energy copies.\n",
    "- Instead of the Temperature, here we will work with the Beta, which is just 1/T.\n",
    "- The cooling schedule in this case will be linear."
   ]
  },
  {
   "cell_type": "code",
   "execution_count": 14,
   "metadata": {},
   "outputs": [],
   "source": [
    "StartBeta = 0\n",
    "EndBeta = 5\n",
    "CoolingFactor = 5/50 #Here we will use a linear cooling schedule, so tempera\n",
    "Ne = 10\n",
    "Replicas = 150 "
   ]
  },
  {
   "cell_type": "markdown",
   "metadata": {},
   "source": [
    "Now let's define the core function of the problem, which will perform a Metropolis sweep over the lattice (this means flipping N spins). The sweep is performed in sequential order, but we could consider N random spins and it should also work. \n",
    "\n",
    "First, we will need to define a function that computes the new energy by JUST considering the difference that we obtain from flipping one spin. Since we consider nearest neighbours, computing the whole energy again would be not efficient. Instead, we only have to change the sign of the four interactions that correspond to this one spin. This function can induce some error when we are doing a high number of iterations, and that is why we will do the whole calculation of the energy once in a while."
   ]
  },
  {
   "cell_type": "code",
   "execution_count": 15,
   "metadata": {},
   "outputs": [],
   "source": [
    "def Swap(State, Energy, Matrix, i):\n",
    "    '''Computes the new energy obtained by flipping spin i'''\n",
    "    NewEnergy = copy.deepcopy(Energy)\n",
    "    State = np.array(State, float)\n",
    "    for j in range(N):\n",
    "        NewEnergy += float(4)*Matrix[i][j]*State[i]*State[j]\n",
    "    return NewEnergy"
   ]
  },
  {
   "cell_type": "markdown",
   "metadata": {},
   "source": [
    "The metropolis algorithm is based in the following idea. At a given temperature T, we will ALWAYS accept the moves that lower the energy. The ones that increase it will be accepted depending on a probability that is based on the Boltzmann distribution. Here we have to use random numbers to decide whether we are accepting the perturbation or not."
   ]
  },
  {
   "cell_type": "code",
   "execution_count": 16,
   "metadata": {},
   "outputs": [],
   "source": [
    "def Metropolis_sweep(State, Energy, BestEnergy, BestState, Matrix, Beta, N):\n",
    "    '''Performs a N steps in the Metropolis algorithm and decides whether \n",
    "    to accept the moves or not in a given T'''    \n",
    "    for i in range(N):\n",
    "        spin = i\n",
    "        NewEnergy = Swap(State, Energy, Matrix, spin)\n",
    "        Dif = NewEnergy - Energy\n",
    "        if Dif < 0: \n",
    "            State[spin] = -State[spin]\n",
    "            Energy = NewEnergy\n",
    "            if Energy < BestEnergy:\n",
    "                BestState = copy.deepcopy(State)\n",
    "                BestEnergy = Energy \n",
    "        else:\n",
    "            Prob = np.exp(-Dif*Beta)\n",
    "            dummy = random.random()\n",
    "            if dummy < Prob:\n",
    "                State[spin] = -State[spin]\n",
    "                Energy = NewEnergy  \n",
    "    return State, Energy, BestEnergy, BestState"
   ]
  },
  {
   "cell_type": "markdown",
   "metadata": {},
   "source": [
    "We will also need a function that, given a vector of configuration of spins, finds the energy of each configuration (with the Hamiltonian that was previously given for EA spin glass).  Here we could add a factor 1/2N."
   ]
  },
  {
   "cell_type": "code",
   "execution_count": 17,
   "metadata": {},
   "outputs": [],
   "source": [
    "def Hamiltonian_all(States, Matrix, N):\n",
    "    '''Computes the cost energy of a a given SET of states'''\n",
    "    Energies = []\n",
    "    for confg in States:\n",
    "        Energy = 0\n",
    "        confg = np.array(confg, float)\n",
    "        for i in range(N):\n",
    "            for j in range(N):\n",
    "                Energy += -Matrix[i][j]*confg[i]*confg[j]\n",
    "        Energies = np.append(Energies, Energy)\n",
    "    return Energies"
   ]
  },
  {
   "cell_type": "markdown",
   "metadata": {},
   "source": [
    "And we will keep the function that finds the energy of one state because it can be useful later."
   ]
  },
  {
   "cell_type": "code",
   "execution_count": 18,
   "metadata": {},
   "outputs": [],
   "source": [
    "def Hamiltonian_one(Spins, Matrix, N):\n",
    "    '''Computes the cost energy of a given state'''\n",
    "    Energy = 0\n",
    "    Spins = np.array(Spins, float)\n",
    "    for i in range(N):\n",
    "        for j in range(N):\n",
    "            Energy += -Matrix[i][j]*Spins[i]*Spins[j]\n",
    "    return Energy"
   ]
  },
  {
   "cell_type": "markdown",
   "metadata": {},
   "source": [
    "Now let us define the starting random configuration, which in this case is a configuration for each of the replicas. We will need to apply Simulated Annealing to each of them."
   ]
  },
  {
   "cell_type": "code",
   "execution_count": 19,
   "metadata": {},
   "outputs": [],
   "source": [
    "States = []\n",
    "for replica in range(Replicas):\n",
    "    if len(States) == 0:\n",
    "        States = np.sign(np.random.rand(N)*2-1)\n",
    "    else:\n",
    "        States = np.vstack((States, np.sign(np.random.rand(N)*2-1)))"
   ]
  },
  {
   "cell_type": "markdown",
   "metadata": {},
   "source": [
    "We can plot the initial state of one of the replicas to see how it looks like."
   ]
  },
  {
   "cell_type": "code",
   "execution_count": 20,
   "metadata": {},
   "outputs": [
    {
     "data": {
      "image/png": "[encoded data removed]",
      "text/plain": [
       "<Figure size 432x288 with 1 Axes>"
      ]
     },
     "metadata": {
      "needs_background": "light"
     },
     "output_type": "display_data"
    }
   ],
   "source": [
    "def PlotState(title, State, SpinX, SpinY):\n",
    "    '''Plots the spin state'''\n",
    "    plt.figure()\n",
    "    plt.title(title)\n",
    "    plt.plot(SpinX[State>0],SpinY[State>0],color='red',marker='^',linestyle='None',label='Spin +1')\n",
    "    plt.plot(SpinX[State<0],SpinY[State<0],color='green',marker='v',linestyle='None',label='Spin -1')\n",
    "    plt.legend()\n",
    "\n",
    "PlotState('Initial configuration', States[0], SpinX, SpinY)  "
   ]
  },
  {
   "cell_type": "markdown",
   "metadata": {},
   "source": [
    "Now we will start with the process of minimizing the energy. Note that we will save the best energy (and the best state corresponding to it) througout the process and that will be our result.\n",
    "This process would be much faster if we were be parellelizing it. We won't do this in this code, but it would be an interesting implementation.\n",
    "\n",
    "The procedure will be, for each temperature: Apply SA to all of the replicas and compute $\\tau$, which will tell us how to resample the set. From $\\tau$, we need to extract an integer number, which will be the number of copies for each configuration. This can be done in many ways, but here we will consider the nearest-integer probability to resample."
   ]
  },
  {
   "cell_type": "code",
   "execution_count": 21,
   "metadata": {},
   "outputs": [
    {
     "name": "stdout",
     "output_type": "stream",
     "text": [
      "\n",
      "START POPULATION ANNEALING\n",
      "\n",
      "Beta  0\n",
      "MINIMUM ENERGY OF CURRENT CONFIGURATIONS:  -103.72389112644032\n",
      "\n",
      "RESAMPLING: New number of copies:  210\n",
      "\n",
      "Beta  0.1\n",
      "MINIMUM ENERGY OF CURRENT CONFIGURATIONS:  -176.99123581640825\n",
      "\n",
      "RESAMPLING: New number of copies:  210\n",
      "\n",
      "Beta  0.2\n",
      "MINIMUM ENERGY OF CURRENT CONFIGURATIONS:  -217.03266164326268\n",
      "\n",
      "RESAMPLING: New number of copies:  207\n",
      "\n",
      "Beta  0.30000000000000004\n",
      "MINIMUM ENERGY OF CURRENT CONFIGURATIONS:  -250.91615543112334\n",
      "\n",
      "RESAMPLING: New number of copies:  197\n",
      "\n",
      "Beta  0.4\n",
      "MINIMUM ENERGY OF CURRENT CONFIGURATIONS:  -256.27622448962165\n",
      "\n",
      "RESAMPLING: New number of copies:  196\n",
      "\n",
      "Beta  0.5\n",
      "MINIMUM ENERGY OF CURRENT CONFIGURATIONS:  -258.0486200328255\n",
      "\n",
      "RESAMPLING: New number of copies:  196\n",
      "\n",
      "Beta  0.6\n",
      "MINIMUM ENERGY OF CURRENT CONFIGURATIONS:  -258.0486200328255\n",
      "\n",
      "RESAMPLING: New number of copies:  196\n",
      "\n",
      "Beta  0.7\n",
      "MINIMUM ENERGY OF CURRENT CONFIGURATIONS:  -258.6720784194716\n",
      "\n",
      "RESAMPLING: New number of copies:  196\n",
      "\n",
      "Beta  0.7999999999999999\n",
      "MINIMUM ENERGY OF CURRENT CONFIGURATIONS:  -258.6720784194716\n",
      "\n",
      "RESAMPLING: New number of copies:  196\n",
      "\n",
      "Beta  0.8999999999999999\n",
      "MINIMUM ENERGY OF CURRENT CONFIGURATIONS:  -258.6720784194716\n",
      "\n",
      "RESAMPLING: New number of copies:  196\n",
      "\n",
      "Beta  0.9999999999999999\n",
      "MINIMUM ENERGY OF CURRENT CONFIGURATIONS:  -258.6720784194716\n",
      "\n",
      "RESAMPLING: New number of copies:  196\n",
      "\n",
      "Beta  1.0999999999999999\n",
      "MINIMUM ENERGY OF CURRENT CONFIGURATIONS:  -258.6720784194716\n",
      "\n",
      "RESAMPLING: New number of copies:  196\n",
      "\n",
      "Beta  1.2\n",
      "MINIMUM ENERGY OF CURRENT CONFIGURATIONS:  -258.6720784194716\n",
      "\n",
      "RESAMPLING: New number of copies:  196\n",
      "\n",
      "Beta  1.3\n",
      "MINIMUM ENERGY OF CURRENT CONFIGURATIONS:  -258.6720784194716\n",
      "\n",
      "RESAMPLING: New number of copies:  196\n",
      "\n",
      "Beta  1.4000000000000001\n",
      "MINIMUM ENERGY OF CURRENT CONFIGURATIONS:  -258.6720784194716\n",
      "\n",
      "RESAMPLING: New number of copies:  196\n",
      "\n",
      "Beta  1.5000000000000002\n",
      "MINIMUM ENERGY OF CURRENT CONFIGURATIONS:  -258.6720784194716\n",
      "\n",
      "RESAMPLING: New number of copies:  196\n",
      "\n",
      "Beta  1.6000000000000003\n",
      "MINIMUM ENERGY OF CURRENT CONFIGURATIONS:  -258.6720784194716\n",
      "\n",
      "RESAMPLING: New number of copies:  196\n",
      "\n",
      "Beta  1.7000000000000004\n",
      "MINIMUM ENERGY OF CURRENT CONFIGURATIONS:  -258.6720784194716\n",
      "\n",
      "RESAMPLING: New number of copies:  196\n",
      "\n",
      "Beta  1.8000000000000005\n",
      "MINIMUM ENERGY OF CURRENT CONFIGURATIONS:  -258.6720784194716\n",
      "\n",
      "RESAMPLING: New number of copies:  196\n",
      "\n",
      "Beta  1.9000000000000006\n",
      "MINIMUM ENERGY OF CURRENT CONFIGURATIONS:  -258.6720784194716\n",
      "\n",
      "RESAMPLING: New number of copies:  196\n",
      "\n",
      "Beta  2.0000000000000004\n",
      "MINIMUM ENERGY OF CURRENT CONFIGURATIONS:  -258.6720784194716\n",
      "\n",
      "RESAMPLING: New number of copies:  196\n",
      "\n",
      "Beta  2.1000000000000005\n",
      "MINIMUM ENERGY OF CURRENT CONFIGURATIONS:  -258.6720784194716\n",
      "\n",
      "RESAMPLING: New number of copies:  196\n",
      "\n",
      "Beta  2.2000000000000006\n",
      "MINIMUM ENERGY OF CURRENT CONFIGURATIONS:  -258.6720784194716\n",
      "\n",
      "RESAMPLING: New number of copies:  196\n",
      "\n",
      "Beta  2.3000000000000007\n",
      "MINIMUM ENERGY OF CURRENT CONFIGURATIONS:  -258.6720784194716\n",
      "\n",
      "RESAMPLING: New number of copies:  196\n",
      "\n",
      "Beta  2.400000000000001\n",
      "MINIMUM ENERGY OF CURRENT CONFIGURATIONS:  -258.6720784194716\n",
      "\n",
      "RESAMPLING: New number of copies:  196\n",
      "\n",
      "Beta  2.500000000000001\n",
      "MINIMUM ENERGY OF CURRENT CONFIGURATIONS:  -258.6720784194716\n",
      "\n",
      "RESAMPLING: New number of copies:  196\n",
      "\n",
      "Beta  2.600000000000001\n",
      "MINIMUM ENERGY OF CURRENT CONFIGURATIONS:  -258.6720784194716\n",
      "\n",
      "RESAMPLING: New number of copies:  196\n",
      "\n",
      "Beta  2.700000000000001\n",
      "MINIMUM ENERGY OF CURRENT CONFIGURATIONS:  -258.6720784194716\n",
      "\n",
      "RESAMPLING: New number of copies:  196\n",
      "\n",
      "Beta  2.800000000000001\n",
      "MINIMUM ENERGY OF CURRENT CONFIGURATIONS:  -258.6720784194716\n",
      "\n",
      "RESAMPLING: New number of copies:  196\n",
      "\n",
      "Beta  2.9000000000000012\n",
      "MINIMUM ENERGY OF CURRENT CONFIGURATIONS:  -258.6720784194716\n",
      "\n",
      "RESAMPLING: New number of copies:  196\n",
      "\n",
      "Beta  3.0000000000000013\n",
      "MINIMUM ENERGY OF CURRENT CONFIGURATIONS:  -258.6720784194716\n",
      "\n",
      "RESAMPLING: New number of copies:  196\n",
      "\n",
      "Beta  3.1000000000000014\n",
      "MINIMUM ENERGY OF CURRENT CONFIGURATIONS:  -258.6720784194716\n",
      "\n",
      "RESAMPLING: New number of copies:  196\n",
      "\n",
      "Beta  3.2000000000000015\n",
      "MINIMUM ENERGY OF CURRENT CONFIGURATIONS:  -258.6720784194716\n",
      "\n",
      "RESAMPLING: New number of copies:  196\n",
      "\n",
      "Beta  3.3000000000000016\n",
      "MINIMUM ENERGY OF CURRENT CONFIGURATIONS:  -258.6720784194716\n",
      "\n",
      "RESAMPLING: New number of copies:  196\n",
      "\n",
      "Beta  3.4000000000000017\n",
      "MINIMUM ENERGY OF CURRENT CONFIGURATIONS:  -258.6720784194716\n",
      "\n",
      "RESAMPLING: New number of copies:  196\n",
      "\n",
      "Beta  3.5000000000000018\n",
      "MINIMUM ENERGY OF CURRENT CONFIGURATIONS:  -258.6720784194716\n",
      "\n",
      "RESAMPLING: New number of copies:  196\n",
      "\n",
      "Beta  3.600000000000002\n",
      "MINIMUM ENERGY OF CURRENT CONFIGURATIONS:  -258.6720784194716\n",
      "\n",
      "RESAMPLING: New number of copies:  196\n",
      "\n",
      "Beta  3.700000000000002\n",
      "MINIMUM ENERGY OF CURRENT CONFIGURATIONS:  -258.6720784194716\n",
      "\n",
      "RESAMPLING: New number of copies:  196\n",
      "\n",
      "Beta  3.800000000000002\n",
      "MINIMUM ENERGY OF CURRENT CONFIGURATIONS:  -258.6720784194716\n",
      "\n",
      "RESAMPLING: New number of copies:  196\n",
      "\n",
      "Beta  3.900000000000002\n",
      "MINIMUM ENERGY OF CURRENT CONFIGURATIONS:  -258.6720784194716\n",
      "\n",
      "RESAMPLING: New number of copies:  196\n",
      "\n",
      "Beta  4.000000000000002\n",
      "MINIMUM ENERGY OF CURRENT CONFIGURATIONS:  -258.6720784194716\n",
      "\n",
      "RESAMPLING: New number of copies:  196\n",
      "\n",
      "Beta  4.100000000000001\n",
      "MINIMUM ENERGY OF CURRENT CONFIGURATIONS:  -258.6720784194716\n",
      "\n",
      "RESAMPLING: New number of copies:  196\n",
      "\n",
      "Beta  4.200000000000001\n",
      "MINIMUM ENERGY OF CURRENT CONFIGURATIONS:  -258.6720784194716\n",
      "\n",
      "RESAMPLING: New number of copies:  196\n",
      "\n",
      "Beta  4.300000000000001\n",
      "MINIMUM ENERGY OF CURRENT CONFIGURATIONS:  -258.6720784194716\n",
      "\n",
      "RESAMPLING: New number of copies:  196\n",
      "\n",
      "Beta  4.4\n",
      "MINIMUM ENERGY OF CURRENT CONFIGURATIONS:  -258.6720784194716\n",
      "\n",
      "RESAMPLING: New number of copies:  196\n",
      "\n",
      "Beta  4.5\n",
      "MINIMUM ENERGY OF CURRENT CONFIGURATIONS:  -258.6720784194716\n",
      "\n",
      "RESAMPLING: New number of copies:  196\n",
      "\n",
      "Beta  4.6\n",
      "MINIMUM ENERGY OF CURRENT CONFIGURATIONS:  -258.6720784194716\n",
      "\n",
      "RESAMPLING: New number of copies:  196\n",
      "\n",
      "Beta  4.699999999999999\n",
      "MINIMUM ENERGY OF CURRENT CONFIGURATIONS:  -258.6720784194716\n",
      "\n",
      "RESAMPLING: New number of copies:  196\n",
      "\n",
      "Beta  4.799999999999999\n",
      "MINIMUM ENERGY OF CURRENT CONFIGURATIONS:  -258.6720784194716\n",
      "\n",
      "RESAMPLING: New number of copies:  196\n",
      "\n",
      "Beta  4.899999999999999\n",
      "MINIMUM ENERGY OF CURRENT CONFIGURATIONS:  -258.6720784194716\n",
      "\n",
      "RESAMPLING: New number of copies:  196\n",
      "\n",
      "Beta  4.999999999999998\n",
      "MINIMUM ENERGY OF CURRENT CONFIGURATIONS:  -258.6720784194716\n",
      "\n",
      "RESAMPLING: New number of copies:  196\n",
      "MINIMUM REACHED:  -258.67207841947175\n",
      "TIME:  735.7588211139955\n"
     ]
    }
   ],
   "source": [
    "Beta = StartBeta\n",
    "Energies = Hamiltonian_all(States,Matrix,N)\n",
    "BestEnergy = min(Energies)\n",
    "BestState = States[Energies == BestEnergy]    \n",
    "BestState = BestState[0]\n",
    "EnergySteps = []\n",
    "\n",
    "print('\\nSTART POPULATION ANNEALING')\n",
    "start_cycle = timeit.default_timer()\n",
    "#Temperature steps\n",
    "while Beta <= EndBeta:\n",
    "        \n",
    "    print('\\nBeta ', Beta)\n",
    "        \n",
    "    #PERFORM SA\n",
    "    for ReplicaNum in range(len(Energies)):\n",
    "        print('Replica {}'.format(ReplicaNum), end='\\r')\n",
    "        State = copy.deepcopy(States[ReplicaNum])\n",
    "        Energy = Energies[ReplicaNum]\n",
    "        for i in range(Ne):\n",
    "            State,Energy,BestEnergy,BestState = Metropolis_sweep(State,Energy,BestEnergy,BestState,Matrix,Beta,N)\n",
    "        States[ReplicaNum] = copy.deepcopy(BestState)\n",
    "        Energies[ReplicaNum] = Hamiltonian_one(BestState,Matrix,N)\n",
    "        \n",
    "    print('MINIMUM ENERGY OF CURRENT CONFIGURATIONS: ', min(Energies))\n",
    "    EnergySteps = np.append(EnergySteps, min(Energies))\n",
    "    \n",
    "    #COMPUTE FACTOR Q NEEDED FOR RESAMPLING\n",
    "    NewBeta = Beta + CoolingFactor\n",
    "    Q = 0\n",
    "    for Energy in Energies:\n",
    "        Q += math.exp(-(NewBeta-Beta)*Energy)/Replicas\n",
    "    #RESAMPLE\n",
    "    NewStates = []   \n",
    "    NewEnergies = []\n",
    "    for ReplicaNum in range(len(Energies)):\n",
    "        tau = math.exp(-(NewBeta-Beta)*Energies[ReplicaNum])/Q\n",
    "        dummy = random.random()\n",
    "        if dummy >= (tau-round(tau)): #nearest-integer resampling\n",
    "            n = math.ceil(tau)\n",
    "        else:\n",
    "            n = round(tau)\n",
    "        #Create new vector of states and energies (that follows the Gibbs distribution)\n",
    "        for i in range(n):\n",
    "            if len(NewStates) == 0:\n",
    "                NewStates = States[ReplicaNum]\n",
    "            else:\n",
    "                NewStates = np.vstack((NewStates, States[ReplicaNum]))\n",
    "    States = copy.deepcopy(NewStates)\n",
    "    Energies = Hamiltonian_all(States,Matrix,N)\n",
    "    print('RESAMPLING: New number of copies: ', len(Energies))\n",
    "    Beta = NewBeta\n",
    "        \n",
    "end_cycle = timeit.default_timer()\n",
    "print('\\nMINIMUM REACHED: ', BestEnergy)\n",
    "print('TIME: ', end_cycle-start_cycle)         \n",
    "    \n"
   ]
  },
  {
   "cell_type": "markdown",
   "metadata": {},
   "source": [
    "Now we can have a look at the state that was found with minimum energy."
   ]
  },
  {
   "cell_type": "code",
   "execution_count": 25,
   "metadata": {},
   "outputs": [
    {
     "name": "stdout",
     "output_type": "stream",
     "text": [
      "\n",
      "THE MINIMUM ENERGY FOUND IS:  -258.67207841947175\n"
     ]
    },
    {
     "data": {
      "image/png": "[encoded data removed]",
      "text/plain": [
       "<Figure size 432x288 with 1 Axes>"
      ]
     },
     "metadata": {
      "needs_background": "light"
     },
     "output_type": "display_data"
    }
   ],
   "source": [
    "PlotState('Final configuration', BestState, SpinX, SpinY)\n",
    "GroundState = BestEnergy\n",
    "print('\\nTHE MINIMUM ENERGY FOUND IS: ', GroundState)"
   ]
  },
  {
   "cell_type": "markdown",
   "metadata": {},
   "source": [
    "And we can also look at the histogram of final states, to see how are they sampled. It could be that all of them are in the minimum state that was found."
   ]
  },
  {
   "cell_type": "code",
   "execution_count": 26,
   "metadata": {},
   "outputs": [
    {
     "data": {
      "text/plain": [
       "Text(0.5,0,'Energy')"
      ]
     },
     "execution_count": 26,
     "metadata": {},
     "output_type": "execute_result"
    },
    {
     "data": {
      "image/png": "[encoded data removed]",
      "text/plain": [
       "<Figure size 432x288 with 1 Axes>"
      ]
     },
     "metadata": {
      "needs_background": "light"
     },
     "output_type": "display_data"
    }
   ],
   "source": [
    "plt.figure()\n",
    "plt.hist(Energies)\n",
    "plt.title('Histogram of the energies of the final samples')\n",
    "plt.xlabel('Energy')"
   ]
  },
  {
   "cell_type": "markdown",
   "metadata": {},
   "source": [
    "The parameters for this algorithm still need to be tunned in order to get the most out of it. Moreover, if we would parallelize it we could work with a lot more replicas and therefore get a better result.\n",
    "For now it is working, but we still do not get better results than using simulated annealing, which according to the literature should happen."
   ]
  },
  {
   "cell_type": "code",
   "execution_count": null,
   "metadata": {},
   "outputs": [],
   "source": []
  }
 ],
 "metadata": {
  "kernelspec": {
   "display_name": "Python 3",
   "language": "python",
   "name": "python3"
  },
  "language_info": {
   "codemirror_mode": {
    "name": "ipython",
    "version": 3
   },
   "file_extension": ".py",
   "mimetype": "text/x-python",
   "name": "python",
   "nbconvert_exporter": "python",
   "pygments_lexer": "ipython3",
   "version": "3.7.0"
  }
 },
 "nbformat": 4,
 "nbformat_minor": 2
}
