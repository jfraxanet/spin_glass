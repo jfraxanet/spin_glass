{
 "cells": [
  {
   "cell_type": "markdown",
   "metadata": {},
   "source": [
    "# Parallel Tempering"
   ]
  },
  {
   "cell_type": "markdown",
   "metadata": {},
   "source": [
    "\n",
    "In this jupyter notebook you can fins the implementation of the parallel tempering algorithm to find the ground state of an 2D Edwards-Anderson spin glass model, which has the following Hamiltonian:\n",
    "\n",
    "$$H = -\\sum_{<ij>}J_{ij}s_is_j,$$\n",
    "\n",
    "where the couplings $J_{ij}$ are random variables drawn from a Gaussian distribution and we consider only nearest neighbour interactions.\n",
    "The algorithm can also be implemented for other spin glass problems with different connectivity and dimensionality.\n",
    "\n",
    "Parallel tempering consists of an implementation of the metropolis algorithm to different copies of a given system, at given temperatures."
   ]
  },
  {
   "cell_type": "code",
   "execution_count": 12,
   "metadata": {},
   "outputs": [],
   "source": [
    "import numpy as np\n",
    "import random\n",
    "import matplotlib.pyplot as plt\n",
    "import copy\n",
    "import timeit\n",
    "import math"
   ]
  },
  {
   "cell_type": "markdown",
   "metadata": {},
   "source": [
    "After importing the necessary packages we need to define the configuration of the problem. Let's start by defining the lattice. This will be useful to plot the spins."
   ]
  },
  {
   "cell_type": "code",
   "execution_count": 13,
   "metadata": {},
   "outputs": [],
   "source": [
    "def Lattice(N):\n",
    "    '''Square 2D lattice within sqrtN'''\n",
    "    Position = np.zeros((N,2))\n",
    "    SqrtN = np.sqrt(N) \n",
    "    for i in range(N):\n",
    "        Position[i][0] = (i%SqrtN)\n",
    "        Position[i][1] = (i//SqrtN)  \n",
    "    SpinX = Position[:,0]\n",
    "    SpinY = Position[:,1]\n",
    "    return SpinX, SpinY\n",
    "\n",
    "side = 10\n",
    "N = side*side #TOTAL NUMBER OF SPINS\n",
    "SpinX,SpinY = Lattice(N)"
   ]
  },
  {
   "cell_type": "markdown",
   "metadata": {},
   "source": [
    "Now, let us define the random couplings between nearest neighbours. In this case, we will set them in a NxN matrix, but there are more efficient ways to do it. For example, we could save two couplings for each spin, the one to the left and the one with the spin down from it. Here instead we have a symmetric matrix with a lot of entries being zero, but it helps making the program more intuitive."
   ]
  },
  {
   "cell_type": "code",
   "execution_count": 14,
   "metadata": {},
   "outputs": [
    {
     "name": "stdout",
     "output_type": "stream",
     "text": [
      "[[ 0.          0.19159043  0.         ...  0.          0.\n",
      "   0.        ]\n",
      " [ 0.19159043  0.          0.79356073 ...  0.          0.\n",
      "   0.        ]\n",
      " [ 0.          0.79356073  0.         ...  0.          0.\n",
      "   0.        ]\n",
      " ...\n",
      " [ 0.          0.          0.         ...  0.         -1.17958034\n",
      "   0.        ]\n",
      " [ 0.          0.          0.         ... -1.17958034  0.\n",
      "   0.06702237]\n",
      " [ 0.          0.          0.         ...  0.          0.06702237\n",
      "   0.        ]]\n"
     ]
    }
   ],
   "source": [
    "def NN_Random_couplings(N, side, SpinX, SpinY):\n",
    "    '''Computes the symmetric matrix with all random couplings for nearest neighbours PERIODIC BOUNDARY CONDITIONS'''\n",
    "    Matrix = np.zeros((N,N))\n",
    "    for i in range(N):\n",
    "        for j in range(i+1,N):\n",
    "            dist_vector = np.array([SpinX[i]-SpinX[j],SpinY[i]-SpinY[j]])\n",
    "            dist_vector_PBC = (dist_vector + side/2)%side-side/2\n",
    "            if np.linalg.norm(dist_vector_PBC) == 1:\n",
    "                Matrix[i][j] = np.random.normal(0,1) #from N(0,1)\n",
    "                Matrix[j][i] = Matrix[i][j]\n",
    "    return Matrix  \n",
    "\n",
    "Matrix = NN_Random_couplings(N,side,SpinX,SpinY)\n",
    "print(Matrix)\n",
    "#np.save('Matrix.npy', Matrix)"
   ]
  },
  {
   "cell_type": "markdown",
   "metadata": {},
   "source": [
    "We could also import the couplings from a file to be sure we are working on the same problem all the time:"
   ]
  },
  {
   "cell_type": "code",
   "execution_count": 15,
   "metadata": {},
   "outputs": [
    {
     "name": "stdout",
     "output_type": "stream",
     "text": [
      "[[ 0.          0.3764402   0.         ...  0.          0.\n",
      "   0.        ]\n",
      " [ 0.3764402   0.         -1.89813204 ...  0.          0.\n",
      "   0.        ]\n",
      " [ 0.         -1.89813204  0.         ...  0.          0.\n",
      "   0.        ]\n",
      " ...\n",
      " [ 0.          0.          0.         ...  0.         -1.79272444\n",
      "   0.        ]\n",
      " [ 0.          0.          0.         ... -1.79272444  0.\n",
      "  -0.70226097]\n",
      " [ 0.          0.          0.         ...  0.         -0.70226097\n",
      "   0.        ]]\n"
     ]
    }
   ],
   "source": [
    "Matrix = np.load('Matrix10.npy')\n",
    "print(Matrix)"
   ]
  },
  {
   "cell_type": "markdown",
   "metadata": {},
   "source": [
    "Now let us define the parameters that we are going to need for the parallel tempering process. The idea behind this algorithm is to consider more than one copy of the system, each one evolving at a different temperature. After some equilibration steps, we will swap two random copies, in such a way that temperature jumps are allowed and we do not get stuck in a local minima. \n",
    "- Instead of the Temperature, here we will work with the Beta, which is just 1/T. We will define a set of equally spaced temperatures.\n",
    "- Here we do not need to define a cooling schedule. Just the number of equilibration steps and the number of steps that the algorithm will take."
   ]
  },
  {
   "cell_type": "code",
   "execution_count": 16,
   "metadata": {},
   "outputs": [],
   "source": [
    "Betas = np.arange(1/1.6,1/0.1,0.2)\n",
    "Replicas = len(Betas)\n",
    "Ne = 20\n",
    "Ns = 100"
   ]
  },
  {
   "cell_type": "markdown",
   "metadata": {},
   "source": [
    "Now let's define the core function of the problem, which will perform a Metropolis sweep over the lattice (this means flipping N spins). The sweep is performed in sequential order, but we could consider N random spins and it should also work. \n",
    "\n",
    "First, we will need to define a function that computes the new energy by JUST considering the difference that we obtain from flipping one spin. Since we consider nearest neighbours, computing the whole energy again would be not efficient. Instead, we only have to change the sign of the four interactions that correspond to this one spin. This function can induce some error when we are doing a high number of iterations, and that is why we will do the whole calculation of the energy once in a while."
   ]
  },
  {
   "cell_type": "code",
   "execution_count": 17,
   "metadata": {},
   "outputs": [],
   "source": [
    "def Swap(State, Energy, Matrix, i):\n",
    "    '''Computes the new energy obtained by flipping spin i'''\n",
    "    NewEnergy = copy.deepcopy(Energy)\n",
    "    State = np.array(State, float)\n",
    "    for j in range(N):\n",
    "        NewEnergy += float(4)*Matrix[i][j]*State[i]*State[j]\n",
    "    return NewEnergy"
   ]
  },
  {
   "cell_type": "markdown",
   "metadata": {},
   "source": [
    "The metropolis algorithm is based in the following idea. At a given temperature T, we will ALWAYS accept the moves that lower the energy. The ones that increase it will be accepted depending on a probability that is based on the Boltzmann distribution. Here we have to use random numbers to decide whether we are accepting the perturbation or not."
   ]
  },
  {
   "cell_type": "code",
   "execution_count": 18,
   "metadata": {},
   "outputs": [],
   "source": [
    "def Metropolis_sweep(State, Energy, BestEnergy, BestState, Matrix, Beta, N):\n",
    "    '''Performs a N steps in the Metropolis algorithm and decides whether \n",
    "    to accept the moves or not in a given T'''    \n",
    "    for i in range(N):\n",
    "        spin = i\n",
    "        NewEnergy = Swap(State, Energy, Matrix, spin)\n",
    "        Dif = NewEnergy - Energy\n",
    "        if Dif < 0: \n",
    "            State[spin] = -State[spin]\n",
    "            Energy = NewEnergy\n",
    "            if Energy < BestEnergy:\n",
    "                BestState = copy.deepcopy(State)\n",
    "                BestEnergy = Energy \n",
    "        else:\n",
    "            Prob = np.exp(-Dif*Beta)\n",
    "            dummy = random.random()\n",
    "            if dummy < Prob:\n",
    "                State[spin] = -State[spin]\n",
    "                Energy = NewEnergy  \n",
    "    return State, Energy, BestEnergy, BestState"
   ]
  },
  {
   "cell_type": "markdown",
   "metadata": {},
   "source": [
    "We will also need a function that, given a vector of configuration of spins, finds the energy of each configuration (with the Hamiltonian that was previously given for EA spin glass).  Here we could add a factor 1/2N."
   ]
  },
  {
   "cell_type": "code",
   "execution_count": 19,
   "metadata": {},
   "outputs": [],
   "source": [
    "def Hamiltonian_all(States, Matrix, N):\n",
    "    '''Computes the cost energy of a a given SET of states'''\n",
    "    Energies = []\n",
    "    for confg in States:\n",
    "        Energy = 0\n",
    "        confg = np.array(confg, float)\n",
    "        for i in range(N):\n",
    "            for j in range(N):\n",
    "                Energy += -Matrix[i][j]*confg[i]*confg[j]\n",
    "        Energies = np.append(Energies, Energy)\n",
    "    return Energies"
   ]
  },
  {
   "cell_type": "markdown",
   "metadata": {},
   "source": [
    "And we will keep the function that finds the energy of one state because it can be useful later."
   ]
  },
  {
   "cell_type": "code",
   "execution_count": 20,
   "metadata": {},
   "outputs": [],
   "source": [
    "def Hamiltonian_one(Spins, Matrix, N):\n",
    "    '''Computes the cost energy of a given state'''\n",
    "    Energy = 0\n",
    "    Spins = np.array(Spins, float)\n",
    "    for i in range(N):\n",
    "        for j in range(N):\n",
    "            Energy += -Matrix[i][j]*Spins[i]*Spins[j]\n",
    "    return Energy"
   ]
  },
  {
   "cell_type": "markdown",
   "metadata": {},
   "source": [
    "Now let us define the starting random configuration, which in this case is a configuration for each of the replicas. "
   ]
  },
  {
   "cell_type": "code",
   "execution_count": 21,
   "metadata": {},
   "outputs": [],
   "source": [
    "States = []\n",
    "for replica in range(Replicas):\n",
    "    if len(States) == 0:\n",
    "        States = np.sign(np.random.rand(N)*2-1)\n",
    "    else:\n",
    "        States = np.vstack((States, np.sign(np.random.rand(N)*2-1)))"
   ]
  },
  {
   "cell_type": "markdown",
   "metadata": {},
   "source": [
    "We can plot the initial state of one of the replicas to see how it looks like."
   ]
  },
  {
   "cell_type": "code",
   "execution_count": 22,
   "metadata": {},
   "outputs": [
    {
     "data": {
      "image/png": "[encoded data removed]",
      "text/plain": [
       "<Figure size 432x288 with 1 Axes>"
      ]
     },
     "metadata": {
      "needs_background": "light"
     },
     "output_type": "display_data"
    }
   ],
   "source": [
    "def PlotState(title, State, SpinX, SpinY):\n",
    "    '''Plots the spin state'''\n",
    "    plt.figure()\n",
    "    plt.title(title)\n",
    "    plt.plot(SpinX[State>0],SpinY[State>0],color='red',marker='^',linestyle='None',label='Spin +1')\n",
    "    plt.plot(SpinX[State<0],SpinY[State<0],color='green',marker='v',linestyle='None',label='Spin -1')\n",
    "    plt.legend()\n",
    "\n",
    "PlotState('Initial configuration', States[0], SpinX, SpinY)  "
   ]
  },
  {
   "cell_type": "markdown",
   "metadata": {},
   "source": [
    "Now we will start with the process of minimizing the energy. Note that we will save the best energy (and the best state corresponding to it) througout the process and that will be our result. This process would be much faster if we were be parellelizing it. We won't do this in this code, but it would be an interesting implementation.\n",
    "\n",
    "The procedure will be to equilibrate each replica at one temperature during a number of equilibration steps and then perform a random swap of two consecutive replicas. This step will be repeated through the process."
   ]
  },
  {
   "cell_type": "code",
   "execution_count": 24,
   "metadata": {},
   "outputs": [
    {
     "name": "stdout",
     "output_type": "stream",
     "text": [
      "\n",
      "START PARALLEL TEMPERING\n",
      "End of step  0 \tmin Min Energy -251.2800637924474\n",
      "End of step  1 \tmin Min Energy -251.2800637924474\n",
      "End of step  2 \tmin Min Energy -257.89481515349866\n",
      "End of step  3 \tmin Min Energy -257.89481515349866\n",
      "End of step  4 \tmin Min Energy -256.6457393276366\n",
      "End of step  5 \tmin Min Energy -257.89481515349866\n",
      "End of step  6 \tmin Min Energy -258.734466965068\n",
      "End of step  7 \tmin Min Energy -257.3572860138904\n",
      "End of step  8 \tmin Min Energy -257.72968452211063\n",
      "End of step  9 \tmin Min Energy -259.07364973095906\n",
      "End of step  10 \tmin Min Energy -259.07364973095906\n",
      "End of step  11 \tmin Min Energy -259.07364973095906\n",
      "End of step  12 \tmin Min Energy -259.07364973095906\n",
      "End of step  13 \tmin Min Energy -256.2709443859908\n",
      "End of step  14 \tmin Min Energy -257.47164138999926\n",
      "End of step  15 \tmin Min Energy -258.81560659884775\n",
      "End of step  16 \tmin Min Energy -258.734466965068\n",
      "End of step  17 \tmin Min Energy -258.81560659884775\n",
      "End of step  18 \tmin Min Energy -257.72968452211063\n",
      "End of step  19 \tmin Min Energy -258.81560659884775\n",
      "End of step  20 \tmin Min Energy -258.81560659884775\n",
      "End of step  21 \tmin Min Energy -258.81560659884775\n",
      "End of step  22 \tmin Min Energy -259.07364973095906\n",
      "End of step  23 \tmin Min Energy -259.07364973095906\n",
      "End of step  24 \tmin Min Energy -259.07364973095906\n",
      "End of step  25 \tmin Min Energy -259.07364973095906\n",
      "End of step  26 \tmin Min Energy -258.6720784194716\n",
      "End of step  27 \tmin Min Energy -258.6720784194716\n",
      "End of step  28 \tmin Min Energy -259.07364973095906\n",
      "End of step  29 \tmin Min Energy -257.72968452211063\n",
      "End of step  30 \tmin Min Energy -257.824573905097\n",
      "End of step  31 \tmin Min Energy -259.07364973095906\n",
      "End of step  32 \tmin Min Energy -259.07364973095906\n",
      "End of step  33 \tmin Min Energy -257.72968452211063\n",
      "End of step  34 \tmin Min Energy -259.07364973095906\n",
      "End of step  35 \tmin Min Energy -259.07364973095906\n",
      "End of step  36 \tmin Min Energy -259.07364973095906\n",
      "End of step  37 \tmin Min Energy -259.07364973095906\n",
      "End of step  38 \tmin Min Energy -259.07364973095906\n",
      "End of step  39 \tmin Min Energy -261.50925210683795\n",
      "End of step  40 \tmin Min Energy -258.81560659884775\n",
      "End of step  41 \tmin Min Energy -259.04572952776067\n",
      "End of step  42 \tmin Min Energy -260.9765120635993\n",
      "End of step  43 \tmin Min Energy -260.9765120635993\n",
      "End of step  44 \tmin Min Energy -260.9765120635993\n",
      "End of step  45 \tmin Min Energy -260.33041752937754\n",
      "End of step  46 \tmin Min Energy -260.33041752937754\n",
      "End of step  47 \tmin Min Energy -259.7976774861388\n",
      "End of step  48 \tmin Min Energy -259.7976774861388\n",
      "End of step  49 \tmin Min Energy -261.7268244998355\n",
      "End of step  50 \tmin Min Energy -259.7976774861388\n",
      "End of step  51 \tmin Min Energy -259.08134170351536\n",
      "End of step  52 \tmin Min Energy -260.5479899223751\n",
      "End of step  53 \tmin Min Energy -261.7268244998355\n",
      "End of step  54 \tmin Min Energy -261.8411632886091\n",
      "End of step  55 \tmin Min Energy -261.50925210683795\n",
      "End of step  56 \tmin Min Energy -260.5479899223751\n",
      "End of step  57 \tmin Min Energy -260.47774867397345\n",
      "End of step  58 \tmin Min Energy -261.7268244998355\n",
      "End of step  59 \tmin Min Energy -260.33041752937754\n",
      "End of step  60 \tmin Min Energy -259.7976774861388\n",
      "End of step  61 \tmin Min Energy -261.7268244998355\n",
      "End of step  62 \tmin Min Energy -259.7976774861388\n",
      "End of step  63 \tmin Min Energy -261.7268244998355\n",
      "End of step  64 \tmin Min Energy -261.8411632886091\n",
      "End of step  65 \tmin Min Energy -260.0558798661817\n",
      "End of step  66 \tmin Min Energy -261.50925210683795\n",
      "End of step  67 \tmin Min Energy -261.50925210683795\n",
      "End of step  68 \tmin Min Energy -261.8411632886091\n",
      "End of step  69 \tmin Min Energy -260.9765120635993\n",
      "End of step  70 \tmin Min Energy -260.9765120635993\n",
      "End of step  71 \tmin Min Energy -260.17021865495525\n",
      "End of step  72 \tmin Min Energy -258.6720784194716\n",
      "End of step  73 \tmin Min Energy -261.7268244998355\n",
      "End of step  74 \tmin Min Energy -260.592087462747\n",
      "End of step  75 \tmin Min Energy -261.7268244998355\n",
      "End of step  76 \tmin Min Energy -261.7268244998355\n",
      "End of step  77 \tmin Min Energy -260.592087462747\n",
      "End of step  78 \tmin Min Energy -261.7268244998355\n",
      "End of step  79 \tmin Min Energy -261.8411632886091\n",
      "End of step  80 \tmin Min Energy -261.7268244998355\n",
      "End of step  81 \tmin Min Energy -261.8411632886091\n",
      "End of step  82 \tmin Min Energy -261.8411632886091\n",
      "End of step  83 \tmin Min Energy -261.7268244998355\n",
      "End of step  84 \tmin Min Energy -261.8411632886091\n",
      "End of step  85 \tmin Min Energy -261.50925210683795\n",
      "End of step  86 \tmin Min Energy -261.7268244998355\n",
      "End of step  87 \tmin Min Energy -261.50925210683795\n",
      "End of step  88 \tmin Min Energy -261.8411632886091\n",
      "End of step  89 \tmin Min Energy -261.8411632886091\n",
      "End of step  90 \tmin Min Energy -261.8411632886091\n",
      "End of step  91 \tmin Min Energy -261.50925210683795\n",
      "End of step  92 \tmin Min Energy -260.17021865495525\n",
      "End of step  93 \tmin Min Energy -261.7268244998355\n",
      "End of step  94 \tmin Min Energy -259.656549111202\n",
      "End of step  95 \tmin Min Energy -260.5479899223751\n",
      "End of step  96 \tmin Min Energy -259.943997972381\n",
      "End of step  97 \tmin Min Energy -257.94497449050294\n",
      "End of step  98 \tmin Min Energy -261.50925210683795\n",
      "End of step  99 \tmin Min Energy -259.656549111202\n",
      "End of step  100 \tmin Min Energy -260.66232871114863\n",
      "MINIMUM REACHED IN THE PROCESS:  -261.8411632886091\n",
      "TIME:  651.2887755930133\n"
     ]
    }
   ],
   "source": [
    "Steps = 0\n",
    "Energies = Hamiltonian_all(States,Matrix,N)\n",
    "BestEnergy = min(Energies)\n",
    "BestState = States[Energies == BestEnergy]\n",
    "BestState = BestState[0]\n",
    "EnergySteps = []\n",
    "\n",
    "print('\\nSTART PARALLEL TEMPERING')\n",
    "start_program = timeit.default_timer()\n",
    "#Temperature steps\n",
    "while Steps <= Ns:\n",
    "      \n",
    "    #METROPOLIS TO EACH REPLICA\n",
    "    for replica in range(Replicas):\n",
    "        Energy = Energies[replica]\n",
    "        for i in range(Ne):\n",
    "            States[replica], Energy, BestEnergy, BestState = Metropolis_sweep(States[replica],Energy,BestEnergy,BestState,Matrix,Betas[replica],N)\n",
    "        Energies[replica] = Hamiltonian_one(States[replica],Matrix,N)\n",
    "        BestEnergy = Hamiltonian_one(BestState,Matrix,N)\n",
    "    EnergySteps = np.append(EnergySteps, min(Energies))\n",
    "        \n",
    "    #INTERCHANGE REPLICAS\n",
    "    Replica1 = np.random.randint(Replicas)\n",
    "    Replica2 = (Replica1+1)%Replicas\n",
    "    States[Replica1], States[Replica2] = copy.deepcopy(States[Replica2]), copy.deepcopy(States[Replica1])\n",
    "    Energies[Replica1], Energies[Replica2] = Energies[Replica2], Energies[Replica1]\n",
    "\n",
    "    print('End of step ', Steps, '\\tmin Min Energy', min(Energies))\n",
    "    Steps += 1\n",
    "    \n",
    "end_program = timeit.default_timer()\n",
    "print('MINIMUM REACHED IN THE PROCESS: ', BestEnergy)\n",
    "print('TIME: ', end_program-start_program) "
   ]
  },
  {
   "cell_type": "markdown",
   "metadata": {},
   "source": [
    "Now we can have a look at the state that was found with minimum energy."
   ]
  },
  {
   "cell_type": "code",
   "execution_count": 26,
   "metadata": {},
   "outputs": [
    {
     "name": "stdout",
     "output_type": "stream",
     "text": [
      "\n",
      "THE MINIMUM ENERGY FOUND IS:  -261.8411632886091\n"
     ]
    },
    {
     "data": {
      "image/png": "[encoded data removed]",
      "text/plain": [
       "<Figure size 432x288 with 1 Axes>"
      ]
     },
     "metadata": {
      "needs_background": "light"
     },
     "output_type": "display_data"
    }
   ],
   "source": [
    "PlotState('Final configuration', BestState, SpinX, SpinY)\n",
    "GroundState = BestEnergy\n",
    "print('\\nTHE MINIMUM ENERGY FOUND IS: ', GroundState)"
   ]
  },
  {
   "cell_type": "markdown",
   "metadata": {},
   "source": [
    "And we can also look at the histogram of final states, to see how are they sampled. "
   ]
  },
  {
   "cell_type": "code",
   "execution_count": 27,
   "metadata": {},
   "outputs": [
    {
     "data": {
      "text/plain": [
       "Text(0.5,0,'Energy')"
      ]
     },
     "execution_count": 27,
     "metadata": {},
     "output_type": "execute_result"
    },
    {
     "data": {
      "image/png": "[encoded data removed]",
      "text/plain": [
       "<Figure size 432x288 with 1 Axes>"
      ]
     },
     "metadata": {
      "needs_background": "light"
     },
     "output_type": "display_data"
    }
   ],
   "source": [
    "plt.figure()\n",
    "plt.hist(Energies)\n",
    "plt.title('Histogram of the energies of the final samples')\n",
    "plt.xlabel('Energy')"
   ]
  },
  {
   "cell_type": "markdown",
   "metadata": {},
   "source": [
    "The parameters for this algorithm still need to be tunned in order to get the most out of it. Moreover, if we would parallelize it we could work with a lot more temperatures evolving separately and therefore get a better result.\n",
    "For now it is working, but we should make sure we always get better results than SA, which according to the literature should happen."
   ]
  }
 ],
 "metadata": {
  "kernelspec": {
   "display_name": "Python 3",
   "language": "python",
   "name": "python3"
  },
  "language_info": {
   "codemirror_mode": {
    "name": "ipython",
    "version": 3
   },
   "file_extension": ".py",
   "mimetype": "text/x-python",
   "name": "python",
   "nbconvert_exporter": "python",
   "pygments_lexer": "ipython3",
   "version": "3.7.0"
  }
 },
 "nbformat": 4,
 "nbformat_minor": 2
}
