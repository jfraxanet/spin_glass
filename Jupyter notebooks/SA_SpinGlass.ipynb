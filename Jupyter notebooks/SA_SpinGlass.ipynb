{
 "cells": [
  {
   "cell_type": "markdown",
   "metadata": {},
   "source": [
    "# Simulated annealing on spin glass problem\n",
    "\n",
    "                                                                                                 Joana Fraxanet\n",
    "\n",
    "In this jupyter notebook you can fins the implementation of the algorithm simulated annealing to find the ground state of an 2D Edwards-Anderson spin glass model, which has the following Hamiltonian:\n",
    "\n",
    "$$H = -\\sum_{<ij>}J_{ij}s_is_j,$$\n",
    "\n",
    "where the couplings $J_{ij}$ are random variables drawn from a Gaussian distribution and we consider only nearest neighbour interactions.\n",
    "The algorithm can also be implemented for other spin glass problems with different connectivity and dimensionality.\n"
   ]
  },
  {
   "cell_type": "code",
   "execution_count": 20,
   "metadata": {},
   "outputs": [],
   "source": [
    "import numpy as np\n",
    "import random\n",
    "import matplotlib.pyplot as plt\n",
    "import copy\n",
    "import timeit"
   ]
  },
  {
   "cell_type": "markdown",
   "metadata": {},
   "source": [
    "After importing the necessary packages we need to define the configuration of the problem. Let's start by defining the lattice. This will be useful to plot the spins. Note that the lattice has periodic boundary conditions."
   ]
  },
  {
   "cell_type": "code",
   "execution_count": 21,
   "metadata": {},
   "outputs": [],
   "source": [
    "def Lattice(N):\n",
    "    '''Square 2D lattice within sqrtN'''\n",
    "    Position = np.zeros((N,2))\n",
    "    SqrtN = np.sqrt(N) \n",
    "    for i in range(N):\n",
    "        Position[i][0] = (i%SqrtN)\n",
    "        Position[i][1] = (i//SqrtN)  \n",
    "    SpinX = Position[:,0]\n",
    "    SpinY = Position[:,1]\n",
    "    return SpinX, SpinY\n",
    "\n",
    "side = 10\n",
    "N = side*side #TOTAL NUMBER OF SPINS\n",
    "SpinX,SpinY = Lattice(N)"
   ]
  },
  {
   "cell_type": "markdown",
   "metadata": {},
   "source": [
    "Now, let us define the random couplings between nearest neighbours. \n",
    "In this case, we will write them in a NxN matrix, but there are more efficient ways to do it. For example, we could save two couplings for each spin, the one to the left and down from it. \n",
    "Here instead we have a symmetric matrix with a lot of entries being zero, but it helps making the program more intuitive."
   ]
  },
  {
   "cell_type": "code",
   "execution_count": 22,
   "metadata": {
    "scrolled": true
   },
   "outputs": [
    {
     "name": "stdout",
     "output_type": "stream",
     "text": [
      "[[ 0.          2.58195329  0.         ...  0.          0.\n",
      "   0.        ]\n",
      " [ 2.58195329  0.          1.37357651 ...  0.          0.\n",
      "   0.        ]\n",
      " [ 0.          1.37357651  0.         ...  0.          0.\n",
      "   0.        ]\n",
      " ...\n",
      " [ 0.          0.          0.         ...  0.         -0.30341417\n",
      "   0.        ]\n",
      " [ 0.          0.          0.         ... -0.30341417  0.\n",
      "  -0.44880005]\n",
      " [ 0.          0.          0.         ...  0.         -0.44880005\n",
      "   0.        ]]\n"
     ]
    }
   ],
   "source": [
    "def NN_Random_couplings(N, side, SpinX, SpinY):\n",
    "    '''Computes the symmetric matrix with all random couplings for nearest neighbours (PERIODIC BOUNDARY CONDITIONS)'''\n",
    "    Matrix = np.zeros((N,N))\n",
    "    for i in range(N):\n",
    "        for j in range(i+1,N):\n",
    "            dist_vector = np.array([SpinX[i]-SpinX[j],SpinY[i]-SpinY[j]])\n",
    "            dist_vector_PBC = (dist_vector + side/2)%side-side/2\n",
    "            if np.linalg.norm(dist_vector_PBC) == 1:\n",
    "                Matrix[i][j] = np.random.normal(0,1) #from N(0,1)\n",
    "                Matrix[j][i] = Matrix[i][j] #symmetric\n",
    "    return Matrix  \n",
    "\n",
    "Matrix = NN_Random_couplings(N,side,SpinX,SpinY)\n",
    "print(Matrix)\n",
    "#np.save('Matrix.npy', Matrix)"
   ]
  },
  {
   "cell_type": "markdown",
   "metadata": {},
   "source": [
    "We could also import the couplings from a file to be sure we are working on the same problem all the time:"
   ]
  },
  {
   "cell_type": "code",
   "execution_count": 23,
   "metadata": {},
   "outputs": [
    {
     "name": "stdout",
     "output_type": "stream",
     "text": [
      "[[ 0.          0.3764402   0.         ...  0.          0.\n",
      "   0.        ]\n",
      " [ 0.3764402   0.         -1.89813204 ...  0.          0.\n",
      "   0.        ]\n",
      " [ 0.         -1.89813204  0.         ...  0.          0.\n",
      "   0.        ]\n",
      " ...\n",
      " [ 0.          0.          0.         ...  0.         -1.79272444\n",
      "   0.        ]\n",
      " [ 0.          0.          0.         ... -1.79272444  0.\n",
      "  -0.70226097]\n",
      " [ 0.          0.          0.         ...  0.         -0.70226097\n",
      "   0.        ]]\n"
     ]
    }
   ],
   "source": [
    "Matrix = np.load('Matrix10.npy')\n",
    "print(Matrix)"
   ]
  },
  {
   "cell_type": "markdown",
   "metadata": {},
   "source": [
    "Let us define the parameters that we are going to need for the simulated annealing process.\n",
    "We need to define:\n",
    "- Starting Temperature\n",
    "- Stopping criteria: number of temperature steps, final temperature or stabilizing criteria.. (We will use number of steps Nt)\n",
    "- Equilibration steps at each given temperature. (Ne)\n",
    "- Cycles we are going to perform. At each cycle we repeat the whole SA procedure, but starting from a lower temperature.\n",
    "- Cooling schedule. In this case we are choosing exponential (multiply the temperature at each step by the CoolingFactor). It could also be linear or chose other more complex options."
   ]
  },
  {
   "cell_type": "code",
   "execution_count": 24,
   "metadata": {},
   "outputs": [],
   "source": [
    "StartT = 10\n",
    "CoolingFactor = 0.95 \n",
    "Nt = 500 \n",
    "Ne = 10 \n",
    "Cycles = 10 "
   ]
  },
  {
   "cell_type": "markdown",
   "metadata": {},
   "source": [
    "Now let's define the core function of the problem, which will perform a Metropolis sweep over the lattice (this means flipping N spins). The sweep is performed in sequential order, but we could consider N random spins and it should also work. \n",
    "\n",
    "First, we will need to define a function that computes the new energy by JUST considering the difference that we obtain from flipping one spin. Since we consider nearest neighbours, computing the whole energy again would be not efficient. Instead, we only have to change the sign of the four interactions that correspond to this one spin.\n",
    "\n",
    "This function can induce some error when we are doing a high number of iterations, and that is why we will do the whole calculation of the energy once in a while."
   ]
  },
  {
   "cell_type": "code",
   "execution_count": 25,
   "metadata": {},
   "outputs": [],
   "source": [
    "def Swap(State, Energy, Matrix, i):\n",
    "    '''Computes the new energy obtained by flipping spin i'''\n",
    "    NewEnergy = copy.deepcopy(Energy)\n",
    "    State = np.array(State, float)\n",
    "    for j in range(N):\n",
    "        NewEnergy += float(4)*Matrix[i][j]*State[i]*State[j]\n",
    "    return NewEnergy"
   ]
  },
  {
   "cell_type": "markdown",
   "metadata": {},
   "source": [
    "The metropolis algorithm is based in the following idea. At a given temperature T, we will ALWAYS accept the moves that lower the energy. On the other hand, the moves that increase T will be accepted depending on a probability that is based on the Boltzmann distribution. Here we have to use random numbers to decide whether we are accepting the perturbation or not."
   ]
  },
  {
   "cell_type": "code",
   "execution_count": 26,
   "metadata": {},
   "outputs": [],
   "source": [
    "def Metropolis_sweep(State, Energy, BestEnergy, BestState, Matrix, T, N):\n",
    "    '''Performs a N steps in the Metropolis algorithm and decides whether \n",
    "    to accept the moves or not in a given T'''    \n",
    "    for i in range(N):\n",
    "        spin = i\n",
    "        NewEnergy = Swap(State, Energy, Matrix, spin)\n",
    "        Dif = NewEnergy - Energy\n",
    "        if Dif < 0: \n",
    "            State[spin] = -State[spin]\n",
    "            Energy = NewEnergy\n",
    "            if Energy < BestEnergy:\n",
    "                BestState = copy.deepcopy(State)\n",
    "                BestEnergy = Energy \n",
    "        else:\n",
    "            Prob = np.exp(-Dif/T)\n",
    "            dummy = random.random()\n",
    "            if dummy < Prob:\n",
    "                State[spin] = -State[spin]\n",
    "                Energy = NewEnergy  \n",
    "    return State, Energy, BestEnergy, BestState"
   ]
  },
  {
   "cell_type": "markdown",
   "metadata": {},
   "source": [
    "We will also need a function that, given a configuration of spins, finds the energy of the configuration (with the Hamiltonian that was previously given for EA spin glass). Here we could add a factor 1/2N."
   ]
  },
  {
   "cell_type": "code",
   "execution_count": 27,
   "metadata": {},
   "outputs": [],
   "source": [
    "def Hamiltonian_one(Spins, Matrix, N):\n",
    "    '''Computes the cost energy of a given state'''\n",
    "    Energy = 0\n",
    "    Spins = np.array(Spins, float)\n",
    "    for i in range(N):\n",
    "        for j in range(N):\n",
    "            Energy += -Matrix[i][j]*Spins[i]*Spins[j]\n",
    "    return Energy"
   ]
  },
  {
   "cell_type": "markdown",
   "metadata": {},
   "source": [
    "Now let us define the starting random configuration, that we will perturb to obtain the ground state. We could also define a specific initial configuration, but in the case of the Spin Glass we have no information about the problem."
   ]
  },
  {
   "cell_type": "code",
   "execution_count": 28,
   "metadata": {},
   "outputs": [],
   "source": [
    "State = np.sign(np.random.rand(N)*2-1)\n",
    "#np.save('State.npy', State)"
   ]
  },
  {
   "cell_type": "markdown",
   "metadata": {},
   "source": [
    "We can plot the initial state to see how it looks like."
   ]
  },
  {
   "cell_type": "code",
   "execution_count": 29,
   "metadata": {},
   "outputs": [
    {
     "data": {
      "image/png": "[encoded data removed]",
      "text/plain": [
       "<Figure size 432x288 with 1 Axes>"
      ]
     },
     "metadata": {
      "needs_background": "light"
     },
     "output_type": "display_data"
    }
   ],
   "source": [
    "def PlotState(title, State, SpinX, SpinY):\n",
    "    '''Plots the spin state'''\n",
    "    plt.figure()\n",
    "    plt.title(title)\n",
    "    plt.plot(SpinX[State>0],SpinY[State>0],color='red',marker='^',linestyle='None',label='Spin +1')\n",
    "    plt.plot(SpinX[State<0],SpinY[State<0],color='green',marker='v',linestyle='None',label='Spin -1')\n",
    "    plt.legend()\n",
    "\n",
    "PlotState('Initial configuration', State, SpinX, SpinY)  "
   ]
  },
  {
   "cell_type": "markdown",
   "metadata": {},
   "source": [
    "It's time to start with the process of minimizing the energy. Note that we will save the best energy (and the best state corresponding to it) througout the process and that will be our result."
   ]
  },
  {
   "cell_type": "code",
   "execution_count": 30,
   "metadata": {},
   "outputs": [],
   "source": [
    "T = StartT\n",
    "Energy = Hamiltonian_one(State,Matrix,N)\n",
    "BestEnergy = Energy\n",
    "BestState = copy.deepcopy(State) #Important to use this function to copy, otherwise we are just referring to the same element!\n",
    "\n",
    "#Save data to plot it:\n",
    "FinalEnergies = []\n",
    "EnergyEvolution = []"
   ]
  },
  {
   "cell_type": "code",
   "execution_count": 31,
   "metadata": {
    "scrolled": false
   },
   "outputs": [
    {
     "name": "stdout",
     "output_type": "stream",
     "text": [
      "\n",
      "START SIMULATED ANNEALING CYCLE  1\n",
      "Starting Temperature: 10\n",
      "Final Temperature:  6.910766983367094e-11\n",
      "MINIMUM REACHED:  -260.29787326364317\n",
      "TIME:  32.19521143499878\n",
      "\n",
      "START SIMULATED ANNEALING CYCLE  2\n",
      "Starting Temperature: 9.5\n",
      "Final Temperature:  6.56522863419874e-11\n",
      "MINIMUM REACHED:  -260.29787326364317\n",
      "TIME:  31.432829436991597\n",
      "\n",
      "START SIMULATED ANNEALING CYCLE  3\n",
      "Starting Temperature: 9.025\n",
      "Final Temperature:  6.236967202488802e-11\n",
      "MINIMUM REACHED:  -260.8489363922519\n",
      "TIME:  31.79707967399736\n",
      "\n",
      "START SIMULATED ANNEALING CYCLE  4\n",
      "Starting Temperature: 8.573749999999999\n",
      "Final Temperature:  5.925118842364362e-11\n",
      "MINIMUM REACHED:  -260.8489363922519\n",
      "TIME:  32.60668516199803\n",
      "\n",
      "START SIMULATED ANNEALING CYCLE  5\n",
      "Starting Temperature: 8.145062499999998\n",
      "Final Temperature:  5.6288629002461435e-11\n",
      "MINIMUM REACHED:  -260.8489363922519\n",
      "TIME:  32.77563742198981\n",
      "\n",
      "START SIMULATED ANNEALING CYCLE  6\n",
      "Starting Temperature: 7.737809374999998\n",
      "Final Temperature:  5.347419755233836e-11\n",
      "MINIMUM REACHED:  -260.8489363922519\n",
      "TIME:  32.40722580999136\n",
      "\n",
      "START SIMULATED ANNEALING CYCLE  7\n",
      "Starting Temperature: 7.350918906249998\n",
      "Final Temperature:  5.080048767472144e-11\n",
      "MINIMUM REACHED:  -260.8489363922519\n",
      "TIME:  32.26288958999794\n",
      "\n",
      "START SIMULATED ANNEALING CYCLE  8\n",
      "Starting Temperature: 6.983372960937498\n",
      "Final Temperature:  4.826046329098537e-11\n",
      "MINIMUM REACHED:  -260.8489363922519\n",
      "TIME:  32.800749198999256\n",
      "\n",
      "START SIMULATED ANNEALING CYCLE  9\n",
      "Starting Temperature: 6.634204312890622\n",
      "Final Temperature:  4.58474401264361e-11\n",
      "MINIMUM REACHED:  -260.8489363922519\n",
      "TIME:  32.70448659299291\n",
      "\n",
      "START SIMULATED ANNEALING CYCLE  10\n",
      "Starting Temperature: 6.3024940972460906\n",
      "Final Temperature:  4.3555068120114295e-11\n",
      "MINIMUM REACHED:  -260.8489363922519\n",
      "TIME:  32.54438439698424\n"
     ]
    }
   ],
   "source": [
    "for cycle in range(Cycles):\n",
    "    start_cycle = timeit.default_timer() #Compute the time that it takes\n",
    "    \n",
    "    StepsT = 0\n",
    "    print('\\nSTART SIMULATED ANNEALING CYCLE ', cycle+1)\n",
    "    print('Starting Temperature:', T)\n",
    "    while StepsT <= Nt:\n",
    "        for i in range(Ne):\n",
    "            State,Energy,BestEnergy,BestState = Metropolis_sweep(State,Energy,BestEnergy,BestState,Matrix,T,N)\n",
    "            EnergyEvolution = np.append(EnergyEvolution,Energy)\n",
    "        T = T*CoolingFactor\n",
    "        StepsT += 1\n",
    "    print('Final Temperature: ', T)\n",
    "\n",
    "    State = copy.deepcopy(BestState)\n",
    "    Energy = BestEnergy = Hamiltonian_one(BestState,Matrix,N) #To make sure we did not accumulate error, we recalculate the energy at the state chosen.\n",
    "    FinalEnergies = np.append(FinalEnergies, Energy)\n",
    "    \n",
    "    end_cycle = timeit.default_timer()\n",
    "    print('MINIMUM REACHED: ', Energy)\n",
    "    print('TIME: ', end_cycle-start_cycle) \n",
    "    T = StartT*CoolingFactor**(cycle+1) #Lower the temperature at the start of each new cycle"
   ]
  },
  {
   "cell_type": "markdown",
   "metadata": {},
   "source": [
    "Let us plot the final energy obtained at the end of each cycle. If it is constant, the ground state was obtained already on the first cycle (or we are in a local minima that is really difficult to overcome and therefore not reaching the gound state)."
   ]
  },
  {
   "cell_type": "code",
   "execution_count": 32,
   "metadata": {},
   "outputs": [
    {
     "name": "stdout",
     "output_type": "stream",
     "text": [
      "[-260.29787326 -260.29787326 -260.84893639 -260.84893639 -260.84893639\n",
      " -260.84893639 -260.84893639 -260.84893639 -260.84893639 -260.84893639]\n"
     ]
    },
    {
     "data": {
      "image/png": "[encoded data removed]",
      "text/plain": [
       "<Figure size 432x288 with 1 Axes>"
      ]
     },
     "metadata": {
      "needs_background": "light"
     },
     "output_type": "display_data"
    }
   ],
   "source": [
    "plt.figure()\n",
    "plt.plot(FinalEnergies)\n",
    "plt.title('Simulated annealing cycles on Gaussian EA Spin Glass')\n",
    "plt.xlabel('Cycles')\n",
    "plt.ylabel('Optimal energy')\n",
    "#plt.savefig('FinalEnergies.png')\n",
    "#np.save('Evolution.npy', FinalEnergies)\n",
    "print(FinalEnergies)"
   ]
  },
  {
   "cell_type": "markdown",
   "metadata": {},
   "source": [
    "And we can also plot the state which corresponds to the minimum energy. There can be more than one! For example, if the couplings would have been bimodal ($\\pm$1), the system is known to have a big degeneracy. For Gaussian couplings, there can also be degeneracy."
   ]
  },
  {
   "cell_type": "code",
   "execution_count": 33,
   "metadata": {},
   "outputs": [
    {
     "name": "stdout",
     "output_type": "stream",
     "text": [
      "\n",
      "THE MINIMUM ENERGY FOUND IS:  -260.8489363922519\n"
     ]
    },
    {
     "data": {
      "image/png": "[encoded data removed]",
      "text/plain": [
       "<Figure size 432x288 with 1 Axes>"
      ]
     },
     "metadata": {
      "needs_background": "light"
     },
     "output_type": "display_data"
    }
   ],
   "source": [
    "PlotState('Final configuration', BestState, SpinX, SpinY)\n",
    "GroundState = min(FinalEnergies)\n",
    "print('\\nTHE MINIMUM ENERGY FOUND IS: ', GroundState)"
   ]
  },
  {
   "cell_type": "markdown",
   "metadata": {},
   "source": [
    "We could also check how the energy is lowered at a particular cycle. That is why we saved energy evolution (if we want the program to be efficient, saving all these data is not a good idea but is nice to understand what is going on)."
   ]
  },
  {
   "cell_type": "code",
   "execution_count": 34,
   "metadata": {},
   "outputs": [
    {
     "data": {
      "text/plain": [
       "Text(0,0.5,'Energy')"
      ]
     },
     "execution_count": 34,
     "metadata": {},
     "output_type": "execute_result"
    },
    {
     "data": {
      "image/png": "[encoded data removed]",
      "text/plain": [
       "<Figure size 432x288 with 1 Axes>"
      ]
     },
     "metadata": {
      "needs_background": "light"
     },
     "output_type": "display_data"
    }
   ],
   "source": [
    "plt.figure()\n",
    "plt.plot(EnergyEvolution)\n",
    "plt.title('Energy evolution during the SA optimization')\n",
    "plt.xlabel('MCS')\n",
    "plt.ylabel('Energy')"
   ]
  },
  {
   "cell_type": "markdown",
   "metadata": {},
   "source": [
    "For a difficult spin glass problem, doing temperature cycles enhances our possibilities of finding the ground state. Nevertheless, there are better algorithms that do this in a more clever way, such as Parallel Tempering or Population annealing.\n",
    "\n",
    "This algorithm is just a simple application of Simulated Annealing, but more efficiency needs to be achieved if you want to work with bigger lattices or 3D problems (actually, over 16x16 lattices in 2D we start to need long computation times). \n",
    "\n",
    "This process can be easily parallelized because of the fact that we are considering only nearest neighbours and can be implemented for example in an FPGA. There are also implementations of the idea behind this algorithm on quantum systems in the so called Quantum Annealing."
   ]
  }
 ],
 "metadata": {
  "kernelspec": {
   "display_name": "Python 3",
   "language": "python",
   "name": "python3"
  },
  "language_info": {
   "codemirror_mode": {
    "name": "ipython",
    "version": 3
   },
   "file_extension": ".py",
   "mimetype": "text/x-python",
   "name": "python",
   "nbconvert_exporter": "python",
   "pygments_lexer": "ipython3",
   "version": "3.7.0"
  }
 },
 "nbformat": 4,
 "nbformat_minor": 2
}
